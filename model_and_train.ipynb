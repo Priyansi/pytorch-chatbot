{
  "nbformat": 4,
  "nbformat_minor": 0,
  "metadata": {
    "colab": {
      "name": "model_and_train.ipynb",
      "provenance": []
    },
    "kernelspec": {
      "name": "python3",
      "display_name": "Python 3"
    }
  },
  "cells": [
    {
      "cell_type": "markdown",
      "metadata": {
        "id": "6Mo9h2rm2JUM",
        "colab_type": "text"
      },
      "source": [
        "# Importing essential functions"
      ]
    },
    {
      "cell_type": "code",
      "metadata": {
        "id": "wYM_OaP5iyQW",
        "colab_type": "code",
        "colab": {
          "base_uri": "https://localhost:8080/",
          "height": 121
        },
        "outputId": "a9b9d822-948c-4d12-e48a-0c8261bce356"
      },
      "source": [
        "! git clone https://github.com/Priyansi/pytorch-chatbot.git"
      ],
      "execution_count": 1,
      "outputs": [
        {
          "output_type": "stream",
          "text": [
            "Cloning into 'pytorch-chatbot'...\n",
            "remote: Enumerating objects: 10, done.\u001b[K\n",
            "remote: Counting objects:  10% (1/10)\u001b[K\rremote: Counting objects:  20% (2/10)\u001b[K\rremote: Counting objects:  30% (3/10)\u001b[K\rremote: Counting objects:  40% (4/10)\u001b[K\rremote: Counting objects:  50% (5/10)\u001b[K\rremote: Counting objects:  60% (6/10)\u001b[K\rremote: Counting objects:  70% (7/10)\u001b[K\rremote: Counting objects:  80% (8/10)\u001b[K\rremote: Counting objects:  90% (9/10)\u001b[K\rremote: Counting objects: 100% (10/10)\u001b[K\rremote: Counting objects: 100% (10/10), done.\u001b[K\n",
            "remote: Compressing objects:  12% (1/8)\u001b[K\rremote: Compressing objects:  25% (2/8)\u001b[K\rremote: Compressing objects:  37% (3/8)\u001b[K\rremote: Compressing objects:  50% (4/8)\u001b[K\rremote: Compressing objects:  62% (5/8)\u001b[K\rremote: Compressing objects:  75% (6/8)\u001b[K\rremote: Compressing objects:  87% (7/8)\u001b[K\rremote: Compressing objects: 100% (8/8)\u001b[K\rremote: Compressing objects: 100% (8/8), done.\u001b[K\n",
            "remote: Total 10 (delta 0), reused 10 (delta 0), pack-reused 0\u001b[K\n",
            "Unpacking objects:  10% (1/10)   \rUnpacking objects:  20% (2/10)   \rUnpacking objects:  30% (3/10)   \rUnpacking objects:  40% (4/10)   \rUnpacking objects:  50% (5/10)   \rUnpacking objects:  60% (6/10)   \rUnpacking objects:  70% (7/10)   \rUnpacking objects:  80% (8/10)   \rUnpacking objects:  90% (9/10)   \rUnpacking objects: 100% (10/10)   \rUnpacking objects: 100% (10/10), done.\n"
          ],
          "name": "stdout"
        }
      ]
    },
    {
      "cell_type": "markdown",
      "metadata": {
        "id": "zDV2o2Ikin66",
        "colab_type": "text"
      },
      "source": [
        "# Train"
      ]
    },
    {
      "cell_type": "code",
      "metadata": {
        "id": "1UOJa6MojOXd",
        "colab_type": "code",
        "colab": {}
      },
      "source": [
        "PATH = '/content/pytorch-chatbot/'"
      ],
      "execution_count": 2,
      "outputs": []
    },
    {
      "cell_type": "code",
      "metadata": {
        "id": "cB5Lt_A43M5t",
        "colab_type": "code",
        "colab": {}
      },
      "source": [
        "import sys\n",
        "sys.path.append(PATH)"
      ],
      "execution_count": 5,
      "outputs": []
    },
    {
      "cell_type": "code",
      "metadata": {
        "id": "f9PXONzig46y",
        "colab_type": "code",
        "colab": {}
      },
      "source": [
        "import json\n",
        "import numpy as np\n",
        "from nltk_utils import *\n",
        "from torch.utils.data import (Dataset, DataLoader)"
      ],
      "execution_count": 6,
      "outputs": []
    },
    {
      "cell_type": "code",
      "metadata": {
        "id": "1FD4lTv13gLr",
        "colab_type": "code",
        "colab": {
          "base_uri": "https://localhost:8080/",
          "height": 69
        },
        "outputId": "98964826-f51e-45e5-d765-b67eda6de42b"
      },
      "source": [
        "nltk.download('punkt')"
      ],
      "execution_count": 11,
      "outputs": [
        {
          "output_type": "stream",
          "text": [
            "[nltk_data] Downloading package punkt to /root/nltk_data...\n",
            "[nltk_data]   Unzipping tokenizers/punkt.zip.\n"
          ],
          "name": "stdout"
        },
        {
          "output_type": "execute_result",
          "data": {
            "text/plain": [
              "True"
            ]
          },
          "metadata": {
            "tags": []
          },
          "execution_count": 11
        }
      ]
    },
    {
      "cell_type": "code",
      "metadata": {
        "id": "cJj1wm_Xi7GA",
        "colab_type": "code",
        "colab": {}
      },
      "source": [
        "with open(f'{PATH}intents.json', 'r') as file:\n",
        "    intents = json.load(file)"
      ],
      "execution_count": 12,
      "outputs": []
    },
    {
      "cell_type": "code",
      "metadata": {
        "id": "wHLaO0WBjW-i",
        "colab_type": "code",
        "colab": {}
      },
      "source": [
        "IGNORE_WORDS = ['?', '.', '!', ',', ':', ';']"
      ],
      "execution_count": 13,
      "outputs": []
    },
    {
      "cell_type": "code",
      "metadata": {
        "id": "bfVxby1yqFNK",
        "colab_type": "code",
        "colab": {}
      },
      "source": [
        "all_words = []\n",
        "tags = []\n",
        "xy = []\n",
        "x_train = []\n",
        "y_train = []"
      ],
      "execution_count": 14,
      "outputs": []
    },
    {
      "cell_type": "code",
      "metadata": {
        "id": "dnw1Dm-mmo1w",
        "colab_type": "code",
        "colab": {}
      },
      "source": [
        "for intent in intents['intents']:\n",
        "  tag = intent['tag']\n",
        "  tags.append(tag)\n",
        "  for pattern in intent['patterns']:\n",
        "      words = tokenize(pattern)\n",
        "      words = [stem(word) for word in words if word not in IGNORE_WORDS]\n",
        "      all_words.extend(words)\n",
        "      xy.append((words, tag))\n",
        "all_words = sorted(set(all_words))\n",
        "tags = sorted(set(tags))\n",
        "\n",
        "for (stemmed_sentence, tag) in xy:\n",
        "  bog = bag_of_words(stemmed_sentence, all_words)\n",
        "  x_train.append(bog)\n",
        "\n",
        "  label = tags.index(tag)\n",
        "  y_train.append(label)\n",
        "\n",
        "x_train = np.array(x_train)\n",
        "y_train = np.array(y_train)"
      ],
      "execution_count": 15,
      "outputs": []
    },
    {
      "cell_type": "code",
      "metadata": {
        "id": "IMQHL3elnJK2",
        "colab_type": "code",
        "colab": {}
      },
      "source": [
        "class ChatDataset(Dataset):\n",
        "    def __init__(self, x_train, y_train):\n",
        "        self.num_samples = len(x_train)\n",
        "        self.x_data = x_train\n",
        "        self.y_data = y_train\n",
        "\n",
        "    def __getitem__(self, ind):\n",
        "        return self.x_data[ind], self.y_data[ind]\n",
        "\n",
        "    def __len__(self):\n",
        "        return self.num_samples"
      ],
      "execution_count": 16,
      "outputs": []
    },
    {
      "cell_type": "code",
      "metadata": {
        "id": "BEOxaDQAnckL",
        "colab_type": "code",
        "colab": {}
      },
      "source": [
        "batch_size = 8\n",
        "learning_rate = 0.001\n",
        "num_epochs = 600"
      ],
      "execution_count": 17,
      "outputs": []
    },
    {
      "cell_type": "code",
      "metadata": {
        "id": "7ryDzM71nTx5",
        "colab_type": "code",
        "colab": {}
      },
      "source": [
        "dataset = ChatDataset(x_train, y_train)\n",
        "train_loader = DataLoader(dataset=dataset, batch_size=batch_size, shuffle=True, num_workers=2, pin_memory=True)"
      ],
      "execution_count": 18,
      "outputs": []
    },
    {
      "cell_type": "markdown",
      "metadata": {
        "id": "3fpfddwkpGqx",
        "colab_type": "text"
      },
      "source": [
        "# Model"
      ]
    },
    {
      "cell_type": "code",
      "metadata": {
        "id": "pD1zhc9QnbPM",
        "colab_type": "code",
        "colab": {}
      },
      "source": [
        "import torch\n",
        "import torch.nn as nn"
      ],
      "execution_count": 19,
      "outputs": []
    },
    {
      "cell_type": "code",
      "metadata": {
        "id": "D7GkovX3qW7g",
        "colab_type": "code",
        "colab": {}
      },
      "source": [
        "input_size = len(x_train[0])\n",
        "hidden_size = 16\n",
        "num_classes = len(tags)"
      ],
      "execution_count": 20,
      "outputs": []
    },
    {
      "cell_type": "code",
      "metadata": {
        "id": "Ur1vOPSFpMD-",
        "colab_type": "code",
        "colab": {}
      },
      "source": [
        "class FeedForwardNet(nn.Module):\n",
        "  def __init__(self, input_size, hidden_size, num_classes):\n",
        "    super(FeedForwardNet, self).__init__()\n",
        "    self.layer1 = nn.Linear(input_size, hidden_size)\n",
        "    self.layer2 = nn.Linear(hidden_size, hidden_size)\n",
        "    self.layer3 = nn.Linear(hidden_size, num_classes)\n",
        "    self.relu = nn.ReLU()\n",
        "\n",
        "  def forward(self, x):\n",
        "    out = self.layer1(x)\n",
        "    out = self.relu(out)\n",
        "    out = self.layer2(out)\n",
        "    out = self.relu(out)\n",
        "    out = self.layer3(out)\n",
        "    return out"
      ],
      "execution_count": 21,
      "outputs": []
    },
    {
      "cell_type": "code",
      "metadata": {
        "id": "1LPYKmlJsxss",
        "colab_type": "code",
        "colab": {
          "base_uri": "https://localhost:8080/",
          "height": 121
        },
        "outputId": "f98327f9-18b2-456e-b55f-a5c78b6574d3"
      },
      "source": [
        "model = FeedForwardNet(input_size, hidden_size, num_classes)\n",
        "model"
      ],
      "execution_count": 22,
      "outputs": [
        {
          "output_type": "execute_result",
          "data": {
            "text/plain": [
              "FeedForwardNet(\n",
              "  (layer1): Linear(in_features=62, out_features=16, bias=True)\n",
              "  (layer2): Linear(in_features=16, out_features=16, bias=True)\n",
              "  (layer3): Linear(in_features=16, out_features=10, bias=True)\n",
              "  (relu): ReLU()\n",
              ")"
            ]
          },
          "metadata": {
            "tags": []
          },
          "execution_count": 22
        }
      ]
    },
    {
      "cell_type": "code",
      "metadata": {
        "id": "SRbZfGqbs9Xo",
        "colab_type": "code",
        "colab": {
          "base_uri": "https://localhost:8080/",
          "height": 35
        },
        "outputId": "f911e663-679d-4819-a5d9-4ce444f12e81"
      },
      "source": [
        "device = torch.device('cuda' if torch.cuda.is_available() else 'cpu')\n",
        "device"
      ],
      "execution_count": 23,
      "outputs": [
        {
          "output_type": "execute_result",
          "data": {
            "text/plain": [
              "device(type='cpu')"
            ]
          },
          "metadata": {
            "tags": []
          },
          "execution_count": 23
        }
      ]
    },
    {
      "cell_type": "code",
      "metadata": {
        "id": "d-htBZnMtTwK",
        "colab_type": "code",
        "colab": {}
      },
      "source": [
        "loss_func = nn.CrossEntropyLoss()\n",
        "optimizer_func = torch.optim.Adam"
      ],
      "execution_count": 24,
      "outputs": []
    },
    {
      "cell_type": "code",
      "metadata": {
        "id": "IpZPkIdGtz9e",
        "colab_type": "code",
        "colab": {}
      },
      "source": [
        "def train(num_epochs, learning_rate, train_loader, loss_func, optimizer_func=torch.optim.SGD):\n",
        "  optimizer = optimizer_func(model.parameters(), lr = learning_rate)\n",
        "  for epoch in range(num_epochs):\n",
        "    for (words, labels) in train_loader:\n",
        "      words = words.to(device)\n",
        "      labels = labels.to(device)\n",
        "\n",
        "      outputs = model(words)\n",
        "      loss = loss_func(outputs, labels)\n",
        "\n",
        "      optimizer.zero_grad()\n",
        "      loss.backward()\n",
        "      optimizer.step()\n",
        "\n",
        "    if (epoch+1)%100 == 0 :\n",
        "      print(\"Epoch [{}] : Loss : {}\".format(epoch, loss.item()))"
      ],
      "execution_count": 25,
      "outputs": []
    },
    {
      "cell_type": "code",
      "metadata": {
        "id": "Tk0D-WejvPOG",
        "colab_type": "code",
        "colab": {
          "base_uri": "https://localhost:8080/",
          "height": 121
        },
        "outputId": "9877922d-ade6-423d-8efc-5be8e5f0dc9b"
      },
      "source": [
        "train(num_epochs, learning_rate, train_loader, loss_func, optimizer_func)"
      ],
      "execution_count": 26,
      "outputs": [
        {
          "output_type": "stream",
          "text": [
            "Epoch [99] : Loss : 0.2734623849391937\n",
            "Epoch [199] : Loss : 0.012202807702124119\n",
            "Epoch [299] : Loss : 0.012430126778781414\n",
            "Epoch [399] : Loss : 0.005026794504374266\n",
            "Epoch [499] : Loss : 0.0016176613280549645\n",
            "Epoch [599] : Loss : 0.0006242948002181947\n"
          ],
          "name": "stdout"
        }
      ]
    },
    {
      "cell_type": "code",
      "metadata": {
        "id": "sthkd0s_wIs4",
        "colab_type": "code",
        "colab": {}
      },
      "source": [
        "data = {\n",
        "    'model_state' : model.state_dict(),\n",
        "    'input_size' : input_size,\n",
        "    'hidden_size' : hidden_size,\n",
        "    'output_size' : num_classes,\n",
        "    'all_words' : all_words,\n",
        "    'tags' : tags\n",
        "}"
      ],
      "execution_count": 28,
      "outputs": []
    },
    {
      "cell_type": "code",
      "metadata": {
        "id": "Lqjp6fP44XzL",
        "colab_type": "code",
        "colab": {}
      },
      "source": [
        "FILE = 'data.pth'\n",
        "torch.save(data, FILE)"
      ],
      "execution_count": 31,
      "outputs": []
    },
    {
      "cell_type": "code",
      "metadata": {
        "id": "HbUjDEPD4i07",
        "colab_type": "code",
        "colab": {}
      },
      "source": [
        ""
      ],
      "execution_count": null,
      "outputs": []
    }
  ]
}